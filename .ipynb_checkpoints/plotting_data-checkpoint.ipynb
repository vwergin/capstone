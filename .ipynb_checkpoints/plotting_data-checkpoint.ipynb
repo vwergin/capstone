{
 "cells": [
  {
   "cell_type": "code",
   "execution_count": 3,
   "id": "3eee965f",
   "metadata": {},
   "outputs": [],
   "source": [
    "import pandas as pd\n"
   ]
  },
  {
   "cell_type": "code",
   "execution_count": 9,
   "id": "24c24e14",
   "metadata": {},
   "outputs": [
    {
     "name": "stdout",
     "output_type": "stream",
     "text": [
      "    0.12    -0.05    -0.01    0.55    -0.33    -8.71 \n",
      "0    0.13    -0.01    -0.01    0.60    -0.29    -8.59\n",
      "1    0.12    -0.03    -0.03    0.54    -0.30    -8.66\n",
      "2    0.12    -0.04    -0.00    0.57    -0.26    -8.59\n",
      "3    0.12    -0.04     0.01    0.49    -0.30    -8.66\n",
      "4    0.13    -0.01     0.01    0.56    -0.31    -8.71\n",
      "5    0.12    -0.03    -0.01    0.50    -0.29    -8.60\n",
      "6    0.12    -0.03     0.02    0.52    -0.28    -8.69\n",
      "7    0.12    -0.01    -0.01    0.57    -0.25    -8.52\n",
      "8    0.12    -0.03     0.02    0.53    -0.31    -8.67\n",
      "9    0.12    -0.01    -0.02    0.51    -0.27    -8.63\n",
      "10   0.12    -0.04     0.00    0.53    -0.29    -8.65\n",
      "11   0.13    -0.03    -0.01    0.54    -0.28    -8.62\n",
      "12   0.12    -0.04    -0.02    0.51    -0.30    -8.64\n",
      "13   0.12    -0.05    -0.01    0.52    -0.31    -8.51\n"
     ]
    }
   ],
   "source": [
    "imu_data = pd.read_csv('imudata2.txt', sep='\\t', header=0)\n",
    "print(imu_data)"
   ]
  },
  {
   "cell_type": "code",
   "execution_count": 6,
   "id": "26e0474d",
   "metadata": {},
   "outputs": [
    {
     "name": "stdout",
     "output_type": "stream",
     "text": [
      "          [0,        0,      0,.1      0,.2      0,.3      0,.4      0,.5  \\\n",
      "0   [1307.25,   1226.5,        0,  1237.25,  1241.25,   1240.5,  1241.75,   \n",
      "1    [1248.5,   1226.5,  1232.25,   1245.5,  1240.75,  1240.25,  1241.75,   \n",
      "2    [174.75,   1226.5,   177.25,   1245.5,  1240.75,  1240.25,  1241.75,   \n",
      "3    [174.75,    148.0,    149.5,    151.0,    152.0,  1240.25,   153.75,   \n",
      "4    [174.75,    148.0,    149.5,    151.0,    152.0,  1240.25,   153.75,   \n",
      "..        ...       ...       ...       ...       ...       ...       ...   \n",
      "67   [5214.0,  5225.75,   4968.0,   4779.5,  4811.25,  4809.25,   5262.0,   \n",
      "68   [5214.0,  5225.75,  4690.25,   5084.5,  4826.25,  4809.25,   5262.0,   \n",
      "69   [5214.0,  4731.75,  4690.25,   5084.5,  4826.25,  4809.25,   5262.0,   \n",
      "70   [5214.0,  4845.75,  4775.25,   4828.5,  4826.25,  4809.25,   5262.0,   \n",
      "71  [4756.25,   4950.0,  4775.25,   4739.5,  4826.25,  4809.25,  5537.25,   \n",
      "\n",
      "        0,.6      0,.7      0,.8  ...    0,.201    0,.202    0,.203    0,.204  \\\n",
      "0         0,  1241.25,  1225.25,  ...   1218.0,        0,   1231.5,  1244.75,   \n",
      "1   1242.75,  1237.75,   1234.0,  ...   156.75,   158.25,    161.0,  1244.75,   \n",
      "2   1242.75,  1237.75,   1234.0,  ...   144.75,    145.0,    145.0,   145.25,   \n",
      "3    154.25,    156.0,    157.0,  ...   144.75,    145.0,    145.0,   145.25,   \n",
      "4    154.25,    156.0,    157.0,  ...   144.75,    145.0,    145.0,   145.25,   \n",
      "..       ...       ...       ...  ...       ...       ...       ...       ...   \n",
      "67   5517.5,  5308.25,  5310.75,  ...   8812.0,   9338.0,   8656.5,   8545.5,   \n",
      "68   5517.5,  5531.75,  5313.25,  ...   8812.0,   9338.0,   8683.5,   8570.0,   \n",
      "69   5740.5,  5531.75,  5164.25,  ...   8812.0,  8724.25,  8663.75,   8570.0,   \n",
      "70  5288.75,   4979.5,  5164.25,  ...  9012.75,   8707.5,   8644.0,   8570.0,   \n",
      "71  5288.75,   5202.0,   5000.0,  ...  9290.75,  8698.25,   8644.0,  8622.75,   \n",
      "\n",
      "     0,.205    0,.206   0,.207    0,.208        0] Unnamed: 360  \n",
      "0   1259.5,  1272.25,       0,   1288.0,   1296.5]          NaN  \n",
      "1   162.75,    165.0,  167.25,  1294.25,   1302.0]          NaN  \n",
      "2   162.75,    165.0,  146.75,    169.5,    171.5]          NaN  \n",
      "3   162.75,    165.0,  146.75,    148.0,   148.75]          NaN  \n",
      "4   162.75,    165.0,  146.75,    148.0,   148.75]          NaN  \n",
      "..      ...       ...      ...       ...       ...          ...  \n",
      "67  8644.5,   5214.0,  5195.0,  5442.75,   5178.5]          NaN  \n",
      "68  8501.5,   5214.0,  5195.0,  5442.75,   5178.5]          NaN  \n",
      "69  8620.0,   5214.0,  5195.0,  5442.75,   5178.5]          NaN  \n",
      "70  8620.0,   5214.0,  5195.0,  5442.75,   5178.5]          NaN  \n",
      "71  8620.0,   5214.0,  5195.0,  5442.75,  5315.75]          NaN  \n",
      "\n",
      "[72 rows x 361 columns]\n"
     ]
    }
   ],
   "source": [
    "lidar_data = pd.read_csv('scandata.txt', sep=' ', header=0)\n",
    "print(lidar_data)"
   ]
  },
  {
   "cell_type": "code",
   "execution_count": 7,
   "id": "89a543ea",
   "metadata": {},
   "outputs": [
    {
     "ename": "ParserError",
     "evalue": "Error tokenizing data. C error: Expected 12 fields in line 5, saw 14\n",
     "output_type": "error",
     "traceback": [
      "\u001b[0;31m---------------------------------------------------------------------------\u001b[0m",
      "\u001b[0;31mParserError\u001b[0m                               Traceback (most recent call last)",
      "Input \u001b[0;32mIn [7]\u001b[0m, in \u001b[0;36m<module>\u001b[0;34m\u001b[0m\n\u001b[0;32m----> 1\u001b[0m test \u001b[38;5;241m=\u001b[39m \u001b[43mpd\u001b[49m\u001b[38;5;241;43m.\u001b[39;49m\u001b[43mread_csv\u001b[49m\u001b[43m(\u001b[49m\u001b[38;5;124;43m'\u001b[39;49m\u001b[38;5;124;43mnotes.txt\u001b[39;49m\u001b[38;5;124;43m'\u001b[39;49m\u001b[43m,\u001b[49m\u001b[43m \u001b[49m\u001b[43msep\u001b[49m\u001b[38;5;241;43m=\u001b[39;49m\u001b[38;5;124;43m'\u001b[39;49m\u001b[38;5;124;43m \u001b[39;49m\u001b[38;5;124;43m'\u001b[39;49m\u001b[43m,\u001b[49m\u001b[43m \u001b[49m\u001b[43mheader\u001b[49m\u001b[38;5;241;43m=\u001b[39;49m\u001b[38;5;241;43m0\u001b[39;49m\u001b[43m)\u001b[49m\n\u001b[1;32m      2\u001b[0m \u001b[38;5;28mprint\u001b[39m(test)\n",
      "File \u001b[0;32m/Library/Frameworks/Python.framework/Versions/3.9/lib/python3.9/site-packages/pandas/io/parsers.py:605\u001b[0m, in \u001b[0;36mread_csv\u001b[0;34m(filepath_or_buffer, sep, delimiter, header, names, index_col, usecols, squeeze, prefix, mangle_dupe_cols, dtype, engine, converters, true_values, false_values, skipinitialspace, skiprows, skipfooter, nrows, na_values, keep_default_na, na_filter, verbose, skip_blank_lines, parse_dates, infer_datetime_format, keep_date_col, date_parser, dayfirst, cache_dates, iterator, chunksize, compression, thousands, decimal, lineterminator, quotechar, quoting, doublequote, escapechar, comment, encoding, dialect, error_bad_lines, warn_bad_lines, delim_whitespace, low_memory, memory_map, float_precision, storage_options)\u001b[0m\n\u001b[1;32m    600\u001b[0m kwds_defaults \u001b[38;5;241m=\u001b[39m _refine_defaults_read(\n\u001b[1;32m    601\u001b[0m     dialect, delimiter, delim_whitespace, engine, sep, defaults\u001b[38;5;241m=\u001b[39m{\u001b[38;5;124m\"\u001b[39m\u001b[38;5;124mdelimiter\u001b[39m\u001b[38;5;124m\"\u001b[39m: \u001b[38;5;124m\"\u001b[39m\u001b[38;5;124m,\u001b[39m\u001b[38;5;124m\"\u001b[39m}\n\u001b[1;32m    602\u001b[0m )\n\u001b[1;32m    603\u001b[0m kwds\u001b[38;5;241m.\u001b[39mupdate(kwds_defaults)\n\u001b[0;32m--> 605\u001b[0m \u001b[38;5;28;01mreturn\u001b[39;00m \u001b[43m_read\u001b[49m\u001b[43m(\u001b[49m\u001b[43mfilepath_or_buffer\u001b[49m\u001b[43m,\u001b[49m\u001b[43m \u001b[49m\u001b[43mkwds\u001b[49m\u001b[43m)\u001b[49m\n",
      "File \u001b[0;32m/Library/Frameworks/Python.framework/Versions/3.9/lib/python3.9/site-packages/pandas/io/parsers.py:463\u001b[0m, in \u001b[0;36m_read\u001b[0;34m(filepath_or_buffer, kwds)\u001b[0m\n\u001b[1;32m    460\u001b[0m     \u001b[38;5;28;01mreturn\u001b[39;00m parser\n\u001b[1;32m    462\u001b[0m \u001b[38;5;28;01mwith\u001b[39;00m parser:\n\u001b[0;32m--> 463\u001b[0m     \u001b[38;5;28;01mreturn\u001b[39;00m \u001b[43mparser\u001b[49m\u001b[38;5;241;43m.\u001b[39;49m\u001b[43mread\u001b[49m\u001b[43m(\u001b[49m\u001b[43mnrows\u001b[49m\u001b[43m)\u001b[49m\n",
      "File \u001b[0;32m/Library/Frameworks/Python.framework/Versions/3.9/lib/python3.9/site-packages/pandas/io/parsers.py:1052\u001b[0m, in \u001b[0;36mTextFileReader.read\u001b[0;34m(self, nrows)\u001b[0m\n\u001b[1;32m   1050\u001b[0m \u001b[38;5;28;01mdef\u001b[39;00m \u001b[38;5;21mread\u001b[39m(\u001b[38;5;28mself\u001b[39m, nrows\u001b[38;5;241m=\u001b[39m\u001b[38;5;28;01mNone\u001b[39;00m):\n\u001b[1;32m   1051\u001b[0m     nrows \u001b[38;5;241m=\u001b[39m validate_integer(\u001b[38;5;124m\"\u001b[39m\u001b[38;5;124mnrows\u001b[39m\u001b[38;5;124m\"\u001b[39m, nrows)\n\u001b[0;32m-> 1052\u001b[0m     index, columns, col_dict \u001b[38;5;241m=\u001b[39m \u001b[38;5;28;43mself\u001b[39;49m\u001b[38;5;241;43m.\u001b[39;49m\u001b[43m_engine\u001b[49m\u001b[38;5;241;43m.\u001b[39;49m\u001b[43mread\u001b[49m\u001b[43m(\u001b[49m\u001b[43mnrows\u001b[49m\u001b[43m)\u001b[49m\n\u001b[1;32m   1054\u001b[0m     \u001b[38;5;28;01mif\u001b[39;00m index \u001b[38;5;129;01mis\u001b[39;00m \u001b[38;5;28;01mNone\u001b[39;00m:\n\u001b[1;32m   1055\u001b[0m         \u001b[38;5;28;01mif\u001b[39;00m col_dict:\n\u001b[1;32m   1056\u001b[0m             \u001b[38;5;66;03m# Any column is actually fine:\u001b[39;00m\n",
      "File \u001b[0;32m/Library/Frameworks/Python.framework/Versions/3.9/lib/python3.9/site-packages/pandas/io/parsers.py:2056\u001b[0m, in \u001b[0;36mCParserWrapper.read\u001b[0;34m(self, nrows)\u001b[0m\n\u001b[1;32m   2054\u001b[0m \u001b[38;5;28;01mdef\u001b[39;00m \u001b[38;5;21mread\u001b[39m(\u001b[38;5;28mself\u001b[39m, nrows\u001b[38;5;241m=\u001b[39m\u001b[38;5;28;01mNone\u001b[39;00m):\n\u001b[1;32m   2055\u001b[0m     \u001b[38;5;28;01mtry\u001b[39;00m:\n\u001b[0;32m-> 2056\u001b[0m         data \u001b[38;5;241m=\u001b[39m \u001b[38;5;28;43mself\u001b[39;49m\u001b[38;5;241;43m.\u001b[39;49m\u001b[43m_reader\u001b[49m\u001b[38;5;241;43m.\u001b[39;49m\u001b[43mread\u001b[49m\u001b[43m(\u001b[49m\u001b[43mnrows\u001b[49m\u001b[43m)\u001b[49m\n\u001b[1;32m   2057\u001b[0m     \u001b[38;5;28;01mexcept\u001b[39;00m \u001b[38;5;167;01mStopIteration\u001b[39;00m:\n\u001b[1;32m   2058\u001b[0m         \u001b[38;5;28;01mif\u001b[39;00m \u001b[38;5;28mself\u001b[39m\u001b[38;5;241m.\u001b[39m_first_chunk:\n",
      "File \u001b[0;32mpandas/_libs/parsers.pyx:756\u001b[0m, in \u001b[0;36mpandas._libs.parsers.TextReader.read\u001b[0;34m()\u001b[0m\n",
      "File \u001b[0;32mpandas/_libs/parsers.pyx:771\u001b[0m, in \u001b[0;36mpandas._libs.parsers.TextReader._read_low_memory\u001b[0;34m()\u001b[0m\n",
      "File \u001b[0;32mpandas/_libs/parsers.pyx:827\u001b[0m, in \u001b[0;36mpandas._libs.parsers.TextReader._read_rows\u001b[0;34m()\u001b[0m\n",
      "File \u001b[0;32mpandas/_libs/parsers.pyx:814\u001b[0m, in \u001b[0;36mpandas._libs.parsers.TextReader._tokenize_rows\u001b[0;34m()\u001b[0m\n",
      "File \u001b[0;32mpandas/_libs/parsers.pyx:1951\u001b[0m, in \u001b[0;36mpandas._libs.parsers.raise_parser_error\u001b[0;34m()\u001b[0m\n",
      "\u001b[0;31mParserError\u001b[0m: Error tokenizing data. C error: Expected 12 fields in line 5, saw 14\n"
     ]
    }
   ],
   "source": []
  },
  {
   "cell_type": "code",
   "execution_count": null,
   "id": "e8c4ab93",
   "metadata": {},
   "outputs": [],
   "source": []
  }
 ],
 "metadata": {
  "kernelspec": {
   "display_name": "Python 3 (ipykernel)",
   "language": "python",
   "name": "python3"
  },
  "language_info": {
   "codemirror_mode": {
    "name": "ipython",
    "version": 3
   },
   "file_extension": ".py",
   "mimetype": "text/x-python",
   "name": "python",
   "nbconvert_exporter": "python",
   "pygments_lexer": "ipython3",
   "version": "3.9.2"
  }
 },
 "nbformat": 4,
 "nbformat_minor": 5
}
